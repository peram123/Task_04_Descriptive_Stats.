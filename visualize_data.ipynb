{
 "cells": [
  {
   "cell_type": "code",
   "execution_count": null,
   "id": "95630e74",
   "metadata": {
    "vscode": {
     "languageId": "plaintext"
    }
   },
   "outputs": [],
   "source": [
    "# visualize_all_datasets_pandas.ipynb\n",
    "\n",
    "import pandas as pd\n",
    "import matplotlib.pyplot as plt\n",
    "import seaborn as sns\n",
    "\n",
    "# Paths to datasets - update paths as needed\n",
    "fb_ads_path = '2024_fb_ads_president_scored_anon.csv'\n",
    "fb_posts_path = '2024_fb_posts_president_scored_anon.csv'\n",
    "tw_posts_path = '2024_tw_posts_president_scored_anon.csv'\n",
    "\n",
    "# Load datasets\n",
    "fb_ads = pd.read_csv(fb_ads_path)\n",
    "fb_posts = pd.read_csv(fb_posts_path)\n",
    "tw_posts = pd.read_csv(tw_posts_path)\n",
    "\n",
    "datasets = {\n",
    "    'Facebook Ads': fb_ads,\n",
    "    'Facebook Posts': fb_posts,\n",
    "    'Twitter Posts': tw_posts\n",
    "}\n",
    "\n",
    "def analyze_and_plot(df, dataset_name):\n",
    "    print(f\"\\n--- Analyzing {dataset_name} ---\\n\")\n",
    "\n",
    "    # Identify numeric and categorical columns\n",
    "    numeric_cols = df.select_dtypes(include=['number']).columns.tolist()\n",
    "    cat_cols = df.select_dtypes(include=['object']).columns.tolist()\n",
    "\n",
    "    print(f\"Numeric columns: {numeric_cols}\")\n",
    "    print(f\"Categorical columns: {cat_cols}\")\n",
    "\n",
    "    # Numeric columns: Histograms & Boxplots\n",
    "    for col in numeric_cols:\n",
    "        plt.figure(figsize=(10, 4))\n",
    "        sns.histplot(df[col].dropna(), kde=True, bins=30)\n",
    "        plt.title(f'{dataset_name} - Histogram of {col}')\n",
    "        plt.xlabel(col)\n",
    "        plt.ylabel('Frequency')\n",
    "        plt.show()\n",
    "\n",
    "        plt.figure(figsize=(8, 3))\n",
    "        sns.boxplot(x=df[col].dropna())\n",
    "        plt.title(f'{dataset_name} - Boxplot of {col}')\n",
    "        plt.show()\n",
    "\n",
    "    # Categorical columns: Top 10 value counts Bar plots\n",
    "    for col in cat_cols:\n",
    "        counts = df[col].value_counts(dropna=True).head(10)\n",
    "        plt.figure(figsize=(12, 5))\n",
    "        sns.barplot(x=counts.index, y=counts.values)\n",
    "        plt.xticks(rotation=45, ha='right')\n",
    "        plt.title(f'{dataset_name} - Top 10 Value Counts for {col}')\n",
    "        plt.xlabel(col)\n",
    "        plt.ylabel('Count')\n",
    "        plt.show()\n",
    "\n",
    "    # Print basic narrative summary\n",
    "    print(f\"{dataset_name} Summary:\")\n",
    "    print(f\"- Total records: {len(df)}\")\n",
    "    print(f\"- Number of numeric columns: {len(numeric_cols)}\")\n",
    "    print(f\"- Number of categorical columns: {len(cat_cols)}\")\n",
    "    print(\"- Numeric distributions show central tendency, spread, and outliers.\")\n",
    "    print(\"- Top categorical values indicate dominant categories.\")\n",
    "    print(\"- These visualizations can guide further data cleaning and feature engineering.\\n\")\n",
    "\n",
    "# Run for all datasets\n",
    "for name, data in datasets.items():\n",
    "    analyze_and_plot(data, name)\n"
   ]
  },
  {
   "cell_type": "code",
   "execution_count": null,
   "id": "638b9539",
   "metadata": {
    "vscode": {
     "languageId": "plaintext"
    }
   },
   "outputs": [],
   "source": []
  }
 ],
 "metadata": {
  "language_info": {
   "name": "python"
  }
 },
 "nbformat": 4,
 "nbformat_minor": 5
}
